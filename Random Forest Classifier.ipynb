{
 "cells": [
  {
   "cell_type": "markdown",
   "metadata": {},
   "source": [
    "## Random Forest Analysis"
   ]
  },
  {
   "cell_type": "code",
   "execution_count": 91,
   "metadata": {
    "collapsed": true
   },
   "outputs": [],
   "source": [
    "import pandas as pd\n",
    "import numpy as np\n",
    "import matplotlib.pyplot as plt\n",
    "from sklearn.ensemble import RandomForestClassifier\n",
    "from sklearn.metrics import precision_recall_fscore_support\n",
    "from sklearn.metrics import confusion_matrix\n",
    "%matplotlib inline"
   ]
  },
  {
   "cell_type": "code",
   "execution_count": 92,
   "metadata": {
    "collapsed": true
   },
   "outputs": [],
   "source": [
    "# put data together\n",
    "act = pd.read_table('/Users/amybrown/Thinkful/Unit_4/Lesson_2/activity_labels.txt', header=None, sep=' ', names=('ID','Activity'))\n",
    "type(act)\n",
    "\n",
    "act.columns\n",
    "\n",
    "features = pd.read_table('/Users/amybrown/Thinkful/Unit_4/Lesson_2/features.txt', sep=' ', header=None, names=('ID','Sensor'))\n",
    "features.head()\n",
    "features.info\n",
    "\n",
    "testSub = pd.read_table('/Users/amybrown/Thinkful/Unit_4/Lesson_2/test/subject_test.txt',  header=None, names=['SubjectID'])\n",
    "testSub.shape\n",
    "testSub.head()\n",
    "\n",
    "testX = pd.read_table('/Users/amybrown/Thinkful/Unit_4/Lesson_2/test/X_test.txt', sep='\\s+', header=None)\n",
    "testX.head()\n",
    "testX.shape\n",
    "\n",
    "testY = pd.read_table('/Users/amybrown/Thinkful/Unit_4/Lesson_2/test/y_test.txt', sep=' ', header=None)\n",
    "testY.head()\n",
    "testY.tail()\n",
    "testY.columns = ['ActivityID']\n",
    "\n",
    "trainSub = pd.read_table('/Users/amybrown/Thinkful/Unit_4/Lesson_2/train/subject_train.txt', header=None, names=['SubjectID'])\n",
    "trainSub.shape\n",
    "\n",
    "trainX = pd.read_table('/Users/amybrown/Thinkful/Unit_4/Lesson_2/train/X_train.txt', sep='\\s+', header=None)\n",
    "trainX.shape\n",
    "\n",
    "trainY = pd.read_table('/Users/amybrown/Thinkful/Unit_4/Lesson_2/train/y_train.txt', sep=' ', header=None, names=['ActivityID'])\n",
    "trainY.shape\n",
    "\n",
    "sensorNames = features['Sensor']\n",
    "\n",
    "testX.columns = sensorNames\n",
    "trainX.columns = sensorNames\n",
    "\n",
    "testX = pd.concat([testX, testSub], axis=1)\n",
    "trainX = pd.concat([trainX, trainSub], axis=1)\n",
    "\n",
    "for i in act['ID']:\n",
    "    activity = act[act['ID'] == i]['Activity']  # get activity cell given ID\n",
    "    trainY = trainY.replace({i: activity.iloc[0]})  # replace this ID with activity string\n",
    "    \n",
    "for i in act['ID']:\n",
    "    activity = act[act['ID'] == i]['Activity']  # get activity cell given ID\n",
    "    testY = testY.replace({i: activity.iloc[0]})  # replace this ID with activity string\n",
    "\n",
    "testY.columns = ['Activity']\n",
    "trainY.columns = ['Activity']"
   ]
  },
  {
   "cell_type": "code",
   "execution_count": 93,
   "metadata": {
    "collapsed": true
   },
   "outputs": [],
   "source": [
    "# data cleaning: per Thinkful lesson instructions\n",
    "cols = [col for col in testX.columns if 'band' not in col]\n",
    "testX=testX[cols]\n",
    "cols2 = [col for col in testX.columns if 'Mag' not in col]\n",
    "testX=testX[cols2]\n",
    "\n",
    "testX.columns = [c_name.replace(\"()\", \"\") for c_name in testX.columns.values.tolist()]\n",
    "testX.columns = [c_name.replace(\")\", \"\") for c_name in testX.columns.values.tolist()]\n",
    "testX.columns = [c_name.replace(\"(\", \"\") for c_name in testX.columns.values.tolist()]\n",
    "testX.columns = [c_name.replace(\"-\", \"\") for c_name in testX.columns.values.tolist()]\n",
    "testX.columns = [c_name.replace(\",\", \"\") for c_name in testX.columns.values.tolist()]\n",
    "testX.columns = [c_name.replace(\"BodyBody\", \"\") for c_name in testX.columns.values.tolist()]\n",
    "testX.columns = [c_name.replace(\"Body\", \"\") for c_name in testX.columns.values.tolist()]\n",
    "testX=testX.T.drop_duplicates().T\n",
    "\n",
    "\n",
    "\n",
    "names = trainX.columns.values\n",
    "\n",
    "cols = [col for col in trainX.columns if 'band' not in col]\n",
    "trainX=trainX[cols]\n",
    "cols2 = [col for col in trainX.columns if 'Mag' not in col]\n",
    "trainX=trainX[cols2]\n",
    "\n",
    "trainX.columns = [c_name.replace(\"()\", \"\") for c_name in trainX.columns.values.tolist()]\n",
    "trainX.columns = [c_name.replace(\")\", \"\") for c_name in trainX.columns.values.tolist()]\n",
    "trainX.columns = [c_name.replace(\"(\", \"\") for c_name in trainX.columns.values.tolist()]\n",
    "trainX.columns = [c_name.replace(\"-\", \"\") for c_name in trainX.columns.values.tolist()]\n",
    "trainX.columns = [c_name.replace(\",\", \"\") for c_name in trainX.columns.values.tolist()]\n",
    "trainX.columns = [c_name.replace(\"BodyBody\", \"\") for c_name in trainX.columns.values.tolist()]\n",
    "trainX.columns = [c_name.replace(\"Body\", \"\") for c_name in trainX.columns.values.tolist()]"
   ]
  },
  {
   "cell_type": "code",
   "execution_count": 94,
   "metadata": {
    "collapsed": false
   },
   "outputs": [
    {
     "name": "stderr",
     "output_type": "stream",
     "text": [
      "/Users/amybrown/anaconda3/lib/python3.5/site-packages/ipykernel/__main__.py:2: DataConversionWarning: A column-vector y was passed when a 1d array was expected. Please change the shape of y to (n_samples,), for example using ravel().\n",
      "  from ipykernel import kernelapp as app\n"
     ]
    },
    {
     "data": {
      "text/plain": [
       "RandomForestClassifier(bootstrap=True, class_weight=None, criterion='gini',\n",
       "            max_depth=None, max_features='auto', max_leaf_nodes=None,\n",
       "            min_impurity_split=1e-07, min_samples_leaf=1,\n",
       "            min_samples_split=2, min_weight_fraction_leaf=0.0,\n",
       "            n_estimators=500, n_jobs=1, oob_score=False, random_state=None,\n",
       "            verbose=0, warm_start=False)"
      ]
     },
     "execution_count": 94,
     "metadata": {},
     "output_type": "execute_result"
    }
   ],
   "source": [
    "rf = RandomForestClassifier(n_estimators=500, bootstrap=True)\n",
    "rf.fit(trainX, trainY)"
   ]
  },
  {
   "cell_type": "code",
   "execution_count": 95,
   "metadata": {
    "collapsed": false
   },
   "outputs": [],
   "source": [
    "importances = rf.feature_importances_\n",
    "importances = pd.DataFrame(importances, index=trainX.columns, columns=[\"Importance\"])"
   ]
  },
  {
   "cell_type": "code",
   "execution_count": 96,
   "metadata": {
    "collapsed": false
   },
   "outputs": [],
   "source": [
    "importances[\"Std\"] = np.std([tree.feature_importances_\n",
    "                            for tree in rf.estimators_], axis=0)"
   ]
  },
  {
   "cell_type": "code",
   "execution_count": 97,
   "metadata": {
    "collapsed": true
   },
   "outputs": [],
   "source": [
    "x = range(importances.shape[0])\n",
    "y = importances.ix[:, 0]\n",
    "yerr = importances.ix[:, 1]"
   ]
  },
  {
   "cell_type": "code",
   "execution_count": 98,
   "metadata": {
    "collapsed": false
   },
   "outputs": [],
   "source": [
    "plt.bar(x, y, yerr=yerr, align=\"center\")"
   ]
  },
  {
   "cell_type": "code",
   "execution_count": 99,
   "metadata": {
    "collapsed": false
   },
   "outputs": [
    {
     "data": {
      "text/html": [
       "<div>\n",
       "<table border=\"1\" class=\"dataframe\">\n",
       "  <thead>\n",
       "    <tr style=\"text-align: right;\">\n",
       "      <th></th>\n",
       "      <th>Importance</th>\n",
       "      <th>Std</th>\n",
       "    </tr>\n",
       "  </thead>\n",
       "  <tbody>\n",
       "    <tr>\n",
       "      <th>tGravityAccmeanX</th>\n",
       "      <td>0.039295</td>\n",
       "      <td>0.075028</td>\n",
       "    </tr>\n",
       "    <tr>\n",
       "      <th>tGravityAccenergyX</th>\n",
       "      <td>0.032632</td>\n",
       "      <td>0.067056</td>\n",
       "    </tr>\n",
       "    <tr>\n",
       "      <th>tGravityAccmaxY</th>\n",
       "      <td>0.031771</td>\n",
       "      <td>0.048781</td>\n",
       "    </tr>\n",
       "    <tr>\n",
       "      <th>angleXgravityMean</th>\n",
       "      <td>0.029894</td>\n",
       "      <td>0.064283</td>\n",
       "    </tr>\n",
       "    <tr>\n",
       "      <th>tGravityAccminX</th>\n",
       "      <td>0.028906</td>\n",
       "      <td>0.061365</td>\n",
       "    </tr>\n",
       "    <tr>\n",
       "      <th>tGravityAccmeanY</th>\n",
       "      <td>0.028539</td>\n",
       "      <td>0.043495</td>\n",
       "    </tr>\n",
       "    <tr>\n",
       "      <th>angleYgravityMean</th>\n",
       "      <td>0.027861</td>\n",
       "      <td>0.043627</td>\n",
       "    </tr>\n",
       "    <tr>\n",
       "      <th>tGravityAccminY</th>\n",
       "      <td>0.025344</td>\n",
       "      <td>0.037687</td>\n",
       "    </tr>\n",
       "    <tr>\n",
       "      <th>tGravityAccmaxX</th>\n",
       "      <td>0.024385</td>\n",
       "      <td>0.056138</td>\n",
       "    </tr>\n",
       "    <tr>\n",
       "      <th>tAccmaxX</th>\n",
       "      <td>0.020027</td>\n",
       "      <td>0.044946</td>\n",
       "    </tr>\n",
       "  </tbody>\n",
       "</table>\n",
       "</div>"
      ],
      "text/plain": [
       "                    Importance       Std\n",
       "tGravityAccmeanX      0.039295  0.075028\n",
       "tGravityAccenergyX    0.032632  0.067056\n",
       "tGravityAccmaxY       0.031771  0.048781\n",
       "angleXgravityMean     0.029894  0.064283\n",
       "tGravityAccminX       0.028906  0.061365\n",
       "tGravityAccmeanY      0.028539  0.043495\n",
       "angleYgravityMean     0.027861  0.043627\n",
       "tGravityAccminY       0.025344  0.037687\n",
       "tGravityAccmaxX       0.024385  0.056138\n",
       "tAccmaxX              0.020027  0.044946"
      ]
     },
     "execution_count": 99,
     "metadata": {},
     "output_type": "execute_result"
    }
   ],
   "source": [
    "importances.sort_values(by='Importance', ascending=0).head(10)\n",
    "# figure out how to plot feature importances by relative importance (see yhat blog)"
   ]
  },
  {
   "cell_type": "code",
   "execution_count": 100,
   "metadata": {
    "collapsed": false
   },
   "outputs": [],
   "source": [
    "results = rf.predict(testX)\n",
    "#testY['predictions'] = results"
   ]
  },
  {
   "cell_type": "code",
   "execution_count": 101,
   "metadata": {
    "collapsed": false
   },
   "outputs": [
    {
     "data": {
      "text/plain": [
       "0.92331184255174759"
      ]
     },
     "execution_count": 101,
     "metadata": {},
     "output_type": "execute_result"
    }
   ],
   "source": [
    "# mean accuracy score on testing data\n",
    "rf.score(testX, testY)"
   ]
  },
  {
   "cell_type": "code",
   "execution_count": 102,
   "metadata": {
    "collapsed": true
   },
   "outputs": [],
   "source": [
    "y_true = np.array(testY['Activity'])\n",
    "y_pred = results"
   ]
  },
  {
   "cell_type": "code",
   "execution_count": 103,
   "metadata": {
    "collapsed": false
   },
   "outputs": [
    {
     "data": {
      "text/plain": [
       "(0.92512495775812231, 0.92041561671497141, 0.92175491806906296, None)"
      ]
     },
     "execution_count": 103,
     "metadata": {},
     "output_type": "execute_result"
    }
   ],
   "source": [
    "precision_recall_fscore_support(y_true, y_pred, average='macro')"
   ]
  },
  {
   "cell_type": "code",
   "execution_count": 104,
   "metadata": {
    "collapsed": false
   },
   "outputs": [
    {
     "data": {
      "text/plain": [
       "(0.92331184255174759, 0.92331184255174759, 0.92331184255174759, None)"
      ]
     },
     "execution_count": 104,
     "metadata": {},
     "output_type": "execute_result"
    }
   ],
   "source": [
    "precision_recall_fscore_support(y_true, y_pred, average='micro')"
   ]
  },
  {
   "cell_type": "code",
   "execution_count": 105,
   "metadata": {
    "collapsed": false
   },
   "outputs": [
    {
     "data": {
      "text/plain": [
       "(0.92479888478393235, 0.92331184255174759, 0.92314217433206625, None)"
      ]
     },
     "execution_count": 105,
     "metadata": {},
     "output_type": "execute_result"
    }
   ],
   "source": [
    "precision_recall_fscore_support(y_true, y_pred, average='weighted')"
   ]
  },
  {
   "cell_type": "code",
   "execution_count": 107,
   "metadata": {
    "collapsed": false
   },
   "outputs": [
    {
     "data": {
      "text/plain": [
       "array([[537,   0,   0,   0,   0,   0],\n",
       "       [  0, 430,  61,   0,   0,   0],\n",
       "       [  0,  48, 484,   0,   0,   0],\n",
       "       [  0,   0,   0, 481,   4,  11],\n",
       "       [  0,   0,   0,  18, 357,  45],\n",
       "       [  0,   0,   0,  34,   5, 432]])"
      ]
     },
     "execution_count": 107,
     "metadata": {},
     "output_type": "execute_result"
    }
   ],
   "source": [
    "confusion_matrix(y_true, y_pred)"
   ]
  }
 ],
 "metadata": {
  "kernelspec": {
   "display_name": "Python [Root]",
   "language": "python",
   "name": "Python [Root]"
  },
  "language_info": {
   "codemirror_mode": {
    "name": "ipython",
    "version": 3
   },
   "file_extension": ".py",
   "mimetype": "text/x-python",
   "name": "python",
   "nbconvert_exporter": "python",
   "pygments_lexer": "ipython3",
   "version": "3.5.2"
  }
 },
 "nbformat": 4,
 "nbformat_minor": 0
}
